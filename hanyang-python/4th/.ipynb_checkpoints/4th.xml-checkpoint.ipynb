{
 "cells": [
  {
   "cell_type": "code",
   "execution_count": 1,
   "id": "medical-employment",
   "metadata": {},
   "outputs": [
    {
     "name": "stdout",
     "output_type": "stream",
     "text": [
      "[<Element 'student' at 0x7f09906d4e50>, <Element 'student' at 0x7f0990672b80>]\n",
      "A {'subject': 'C/C++'} C/C++\n",
      "B {'subject': 'python'} python\n"
     ]
    }
   ],
   "source": [
    "# Parsing XML file method\n",
    "from xml.etree.ElementTree import parse\n",
    "\n",
    "tree = parse('data.xml')\n",
    "root = tree.getroot()\n",
    "\n",
    "students = root.findall('student')\n",
    "print(students)\n",
    "\n",
    "for student in students:\n",
    "    name = student.findtext('grade')\n",
    "    attr = student.find('grade').attrib\n",
    "    # No subject is pre-define string for undefined value\n",
    "    subject = attr.get('subject', 'No subject')\n",
    "    print(name, attr, subject)"
   ]
  },
  {
   "cell_type": "code",
   "execution_count": 2,
   "id": "planned-reservoir",
   "metadata": {},
   "outputs": [],
   "source": [
    "# First class end ------------------------------"
   ]
  },
  {
   "cell_type": "code",
   "execution_count": null,
   "id": "incredible-reserve",
   "metadata": {},
   "outputs": [],
   "source": [
    "# Parsing JSON file method\n"
   ]
  }
 ],
 "metadata": {
  "kernelspec": {
   "display_name": "Python 3",
   "language": "python",
   "name": "python3"
  },
  "language_info": {
   "codemirror_mode": {
    "name": "ipython",
    "version": 3
   },
   "file_extension": ".py",
   "mimetype": "text/x-python",
   "name": "python",
   "nbconvert_exporter": "python",
   "pygments_lexer": "ipython3",
   "version": "3.8.5"
  }
 },
 "nbformat": 4,
 "nbformat_minor": 5
}
